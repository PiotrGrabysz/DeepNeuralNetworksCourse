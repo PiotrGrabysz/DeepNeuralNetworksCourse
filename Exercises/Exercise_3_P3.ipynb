{
  "nbformat": 4,
  "nbformat_minor": 0,
  "metadata": {
    "kernelspec": {
      "name": "python3",
      "display_name": "Python 3"
    },
    "colab": {
      "name": "Exercise_3_P3.ipynb",
      "provenance": [],
      "collapsed_sections": [],
      "toc_visible": true,
      "include_colab_link": true
    },
    "accelerator": "GPU"
  },
  "cells": [
    {
      "cell_type": "markdown",
      "metadata": {
        "id": "view-in-github",
        "colab_type": "text"
      },
      "source": [
        "<a href=\"https://colab.research.google.com/github/PiotrGrabysz/GSN/blob/master/Exercise_3_P3.ipynb\" target=\"_parent\"><img src=\"https://colab.research.google.com/assets/colab-badge.svg\" alt=\"Open In Colab\"/></a>"
      ]
    },
    {
      "cell_type": "markdown",
      "metadata": {
        "id": "qMeI3m9u-ZBN",
        "colab_type": "text"
      },
      "source": [
        "# Validation and cross-validation \n",
        "\n",
        "In this exercise you will implement a validation pipeline. \n",
        "\n",
        "At the end of Exercise 2, you tested your model against the training and test datasets. As you should observe, there's a gap between the results. By validating your model, not only should you be able to anticipate the test time performance, but also have a method to compare different models.\n",
        "\n",
        "Implement the basic validation method, i.e. a random split. Test it with your model from Exercise 2."
      ]
    },
    {
      "cell_type": "code",
      "metadata": {
        "id": "daEscs3ez-Jv",
        "colab_type": "code",
        "outputId": "429cacbd-5466-499e-af50-4aecc20d4f49",
        "colab": {
          "base_uri": "https://localhost:8080/",
          "height": 703
        }
      },
      "source": [
        "%matplotlib inline\n",
        "\n",
        "!wget -O mieszkania.csv https://www.dropbox.com/s/zey0gx91pna8irj/mieszkania.csv?dl=1\n",
        "!wget -O mieszkania_test.csv https://www.dropbox.com/s/dbrj6sbxb4ayqjz/mieszkania_test.csv?dl=1\n",
        "\n",
        "import pandas as pd\n",
        "import numpy as np\n",
        "\n",
        "mieszkania = pd.read_csv(\"mieszkania.csv\")\n",
        "mieszkania_test = pd.read_csv(\"mieszkania_test.csv\")\n",
        "\n",
        "X = (mieszkania.drop(['dzielnica', 'cena'], axis = 1)).to_numpy()\n",
        "X_mean = X.mean()\n",
        "X_std = X.std()\n",
        "X = (X - X_mean)/X_std\n",
        "\n",
        "dzielnica = (pd.get_dummies(mieszkania.dzielnica)).to_numpy()\n",
        "X = np.concatenate((X, dzielnica), axis = 1)\n",
        "\n",
        "X_test = (mieszkania_test.drop(['dzielnica', 'cena'], axis = 1)).to_numpy()\n",
        "X_test = (X_test - X_mean)/X_std\n",
        "\n",
        "dzielnica_test = pd.get_dummies(mieszkania_test.dzielnica)\n",
        "X_test = np.concatenate((X_test, dzielnica_test), axis = 1)\n",
        "\n",
        "price_scale = 100000.       #Liczba przez jaką dzielę cenę\n",
        "y = ((mieszkania['cena']).to_numpy())/price_scale\n",
        "y_test = ((mieszkania_test['cena']).to_numpy())/price_scale"
      ],
      "execution_count": 1,
      "outputs": [
        {
          "output_type": "stream",
          "text": [
            "--2020-03-21 17:22:59--  https://www.dropbox.com/s/zey0gx91pna8irj/mieszkania.csv?dl=1\n",
            "Resolving www.dropbox.com (www.dropbox.com)... 162.125.8.1, 2620:100:601b:1::a27d:801\n",
            "Connecting to www.dropbox.com (www.dropbox.com)|162.125.8.1|:443... connected.\n",
            "HTTP request sent, awaiting response... 301 Moved Permanently\n",
            "Location: /s/dl/zey0gx91pna8irj/mieszkania.csv [following]\n",
            "--2020-03-21 17:22:59--  https://www.dropbox.com/s/dl/zey0gx91pna8irj/mieszkania.csv\n",
            "Reusing existing connection to www.dropbox.com:443.\n",
            "HTTP request sent, awaiting response... 302 Found\n",
            "Location: https://uc4fc23286444c4bb8fa496d2ad7.dl.dropboxusercontent.com/cd/0/get/A0X2HrEsWoG3f0vfU0UBCWnB7USCdOObG7SaGijUzpZ1_JxCQq8HIAQta03gO6HCoqOYE6y8sS5QZP2tiZRi8jQhAZOW0w21Bh_0UYxeIvHskQ/file?dl=1# [following]\n",
            "--2020-03-21 17:22:59--  https://uc4fc23286444c4bb8fa496d2ad7.dl.dropboxusercontent.com/cd/0/get/A0X2HrEsWoG3f0vfU0UBCWnB7USCdOObG7SaGijUzpZ1_JxCQq8HIAQta03gO6HCoqOYE6y8sS5QZP2tiZRi8jQhAZOW0w21Bh_0UYxeIvHskQ/file?dl=1\n",
            "Resolving uc4fc23286444c4bb8fa496d2ad7.dl.dropboxusercontent.com (uc4fc23286444c4bb8fa496d2ad7.dl.dropboxusercontent.com)... 162.125.8.6, 2620:100:601b:6::a27d:806\n",
            "Connecting to uc4fc23286444c4bb8fa496d2ad7.dl.dropboxusercontent.com (uc4fc23286444c4bb8fa496d2ad7.dl.dropboxusercontent.com)|162.125.8.6|:443... connected.\n",
            "HTTP request sent, awaiting response... 200 OK\n",
            "Length: 6211 (6.1K) [application/binary]\n",
            "Saving to: ‘mieszkania.csv’\n",
            "\n",
            "\rmieszkania.csv        0%[                    ]       0  --.-KB/s               \rmieszkania.csv      100%[===================>]   6.07K  --.-KB/s    in 0s      \n",
            "\n",
            "2020-03-21 17:23:00 (1008 MB/s) - ‘mieszkania.csv’ saved [6211/6211]\n",
            "\n",
            "--2020-03-21 17:23:01--  https://www.dropbox.com/s/dbrj6sbxb4ayqjz/mieszkania_test.csv?dl=1\n",
            "Resolving www.dropbox.com (www.dropbox.com)... 162.125.8.1, 2620:100:601b:1::a27d:801\n",
            "Connecting to www.dropbox.com (www.dropbox.com)|162.125.8.1|:443... connected.\n",
            "HTTP request sent, awaiting response... 301 Moved Permanently\n",
            "Location: /s/dl/dbrj6sbxb4ayqjz/mieszkania_test.csv [following]\n",
            "--2020-03-21 17:23:02--  https://www.dropbox.com/s/dl/dbrj6sbxb4ayqjz/mieszkania_test.csv\n",
            "Reusing existing connection to www.dropbox.com:443.\n",
            "HTTP request sent, awaiting response... 302 Found\n",
            "Location: https://uc20e4920742db952bb5bda5a07c.dl.dropboxusercontent.com/cd/0/get/A0UVUWiAHqhR4FzeJB9Feew-M5yssAk25RY0kRs950At1olGbuRASmkzUKKhxpRAYlRgRzoaLQMHwJ9amhYSO73lzR9aWjy-q49spi2rwoO19w/file?dl=1# [following]\n",
            "--2020-03-21 17:23:02--  https://uc20e4920742db952bb5bda5a07c.dl.dropboxusercontent.com/cd/0/get/A0UVUWiAHqhR4FzeJB9Feew-M5yssAk25RY0kRs950At1olGbuRASmkzUKKhxpRAYlRgRzoaLQMHwJ9amhYSO73lzR9aWjy-q49spi2rwoO19w/file?dl=1\n",
            "Resolving uc20e4920742db952bb5bda5a07c.dl.dropboxusercontent.com (uc20e4920742db952bb5bda5a07c.dl.dropboxusercontent.com)... 162.125.8.6, 2620:100:601b:6::a27d:806\n",
            "Connecting to uc20e4920742db952bb5bda5a07c.dl.dropboxusercontent.com (uc20e4920742db952bb5bda5a07c.dl.dropboxusercontent.com)|162.125.8.6|:443... connected.\n",
            "HTTP request sent, awaiting response... 200 OK\n",
            "Length: 6247 (6.1K) [application/binary]\n",
            "Saving to: ‘mieszkania_test.csv’\n",
            "\n",
            "mieszkania_test.csv 100%[===================>]   6.10K  --.-KB/s    in 0s      \n",
            "\n",
            "2020-03-21 17:23:02 (969 MB/s) - ‘mieszkania_test.csv’ saved [6247/6247]\n",
            "\n"
          ],
          "name": "stdout"
        }
      ]
    },
    {
      "cell_type": "markdown",
      "metadata": {
        "id": "ztRVHj9Q9EPd",
        "colab_type": "text"
      },
      "source": [
        "Poniżej implementacja spadku gradientowego. Zauważyłem, że działa dobrze, kiedy wagi inicjalizowane są z standardowego rozkładu normalnego, natomiast intercept z rozkładu normalnego o średniej 7. Kiedy intercept też miał średnią 0, to często zdarzało się, że przewidywana cena była ujemna, przez co wybuchał mi logarytm w wyrażeniu na gradient.\n",
        "\n",
        "Mój learning rate to 3, czyli dużo mniej niż wiele osób miało w dyskusji na google meet."
      ]
    },
    {
      "cell_type": "code",
      "metadata": {
        "id": "Ca0nRHYL-ZBR",
        "colab_type": "code",
        "colab": {}
      },
      "source": [
        "def msle(ys, ps):\n",
        "    assert len(ys) == len(ps)   \n",
        "    return np.sum(np.square(np.log(1+ys) - np.log(1+ps)))/len(ys)\n",
        "\n",
        "def predict(w, b, X):\n",
        "    #Sieć uczy się na przeskalowanych cenach, dlatego żęby dostać prawdziwe ceny\n",
        "    #mieszkań, muszę je z powrotem re-skalować\n",
        "    return (np.dot(X, w) + b)*price_scale\n",
        "\n",
        "def evaluate(w, b, X, y):\n",
        "    y_rescaled = y*price_scale\n",
        "    return msle(y_rescaled, predict(w, b, X))\n",
        "\n",
        "\n",
        "def run_gradient_descent(X, y, n_epochs = 1000, lr = 3.):\n",
        "  w = np.random.normal(0, 1, size = X.shape[1])\n",
        "  b = np.random.normal(7, 1)  #intercept\n",
        "\n",
        "  losses = [evaluate(w, b, X, y)]\n",
        "\n",
        "  for i in range(n_epochs):\n",
        "      n = len(y)\n",
        "      grad_w = (2/n)*sum([((-np.log(y[j]+1) + np.log(1+np.dot(w, X[j,:])+b))/(1+np.dot(w, X[j,:])+b))*X[j,: ] for j in range(len(y))])\n",
        "      grad_b = (2/n)*sum([(-np.log(y[j]+1) + np.log(1+np.dot(w, X[j,:])+b))/(1+np.dot(w, X[j,:])+b) for j in range(len(y))])\n",
        "    \n",
        "      w = w - lr*grad_w\n",
        "      b = b - lr*grad_b\n",
        "\n",
        "      loss = evaluate(w, b, X, y)\n",
        "      losses.append(loss)\n",
        "  return w, b, losses\n",
        "    "
      ],
      "execution_count": 0,
      "outputs": []
    },
    {
      "cell_type": "markdown",
      "metadata": {
        "id": "9uoeptE2BBZ5",
        "colab_type": "text"
      },
      "source": [
        "Random split:"
      ]
    },
    {
      "cell_type": "code",
      "metadata": {
        "id": "GNHIq7Ai7aXN",
        "colab_type": "code",
        "outputId": "1c30856c-28ef-4df3-b379-938a1e7c884b",
        "colab": {
          "base_uri": "https://localhost:8080/",
          "height": 67
        }
      },
      "source": [
        "train_idx = np.random.choice(200, size = 100, replace = False)\n",
        "val_idx = np.delete(np.arange(200), train_idx)\n",
        "w, b, _ = run_gradient_descent(X[train_idx,:], y[train_idx])\n",
        "\n",
        "print(\"Train error: {:}\".format(evaluate(w, b, X[train_idx,:], y[train_idx])))\n",
        "print(\"Validation error: {:}\".format(evaluate(w, b, X[val_idx,:], y[val_idx])))\n",
        "print(\"Test error: {:}\".format(evaluate(w, b, X_test, y_test)))"
      ],
      "execution_count": 3,
      "outputs": [
        {
          "output_type": "stream",
          "text": [
            "Train error: 0.13656940633230874\n",
            "Validation error: 0.19286349353194596\n",
            "Test error: 0.17967034486502478\n"
          ],
          "name": "stdout"
        }
      ]
    },
    {
      "cell_type": "markdown",
      "metadata": {
        "id": "tnnf-KvC-ZBW",
        "colab_type": "text"
      },
      "source": [
        "To make the random split validation reliable, a huge chunk of training data may be needed. To get over this problem, one may apply cross-validaiton.\n",
        "\n",
        "![alt-text](https://chrisjmccormick.files.wordpress.com/2013/07/10_fold_cv.png)"
      ]
    },
    {
      "cell_type": "markdown",
      "metadata": {
        "id": "sbu4F_h9-ZBX",
        "colab_type": "text"
      },
      "source": [
        "Let's now implement the method. Make sure that:\n",
        "* number of partitions is a parameter,\n",
        "* the method is not limited to `mieszkania.csv`,\n",
        "* the method is not limited to one specific model."
      ]
    },
    {
      "cell_type": "code",
      "metadata": {
        "id": "dbfmYPOh-ZBY",
        "colab_type": "code",
        "outputId": "7393eef8-3e06-4300-8e2c-3077dfdb2b21",
        "colab": {
          "base_uri": "https://localhost:8080/",
          "height": 117
        }
      },
      "source": [
        "number_of_partitions = 10\n",
        "\n",
        "idx = np.arange(X.shape[0])\n",
        "np.random.shuffle(idx) #Losowo permutuje indeksy obserwacji\n",
        "fold_size = np.int(np.floor(X.shape[0]/number_of_partitions)) #Liczba obserwacji w zbiorze walidacyjnym\n",
        "error = np.zeros(number_of_partitions)\n",
        "\n",
        "for fold in range(number_of_partitions):\n",
        "  #Jeśli liczba podziałów nie jest dzielnikiem liczby danych, to podczas ostatniej\n",
        "  #iteracji zostanie więcej danych niż fold_size\n",
        "  if (number_of_partitions - fold) > 1:\n",
        "    val_idx = idx[fold_size*fold:fold_size*(fold+1)]\n",
        "  else:\n",
        "    val_idx = idx[fold_size*fold:]\n",
        "  train_idx = np.delete(np.arange(X.shape[0]), val_idx)\n",
        "\n",
        "  w, b, _ = run_gradient_descent(X[train_idx,:], y[train_idx])\n",
        "  error[fold] = evaluate(w, b, X[val_idx,:], y[val_idx])\n",
        "\n",
        "print(\"Errors on validation sets: \")\n",
        "print(error)\n",
        "print(\"Mean accuracy: {:}\".format(error.mean()))"
      ],
      "execution_count": 4,
      "outputs": [
        {
          "output_type": "stream",
          "text": [
            "/usr/local/lib/python3.6/dist-packages/ipykernel_launcher.py:3: RuntimeWarning: invalid value encountered in log\n",
            "  This is separate from the ipykernel package so we can avoid doing imports until\n"
          ],
          "name": "stderr"
        },
        {
          "output_type": "stream",
          "text": [
            "Errors on validation sets: \n",
            "[0.12197089 0.22447512 0.1274342  0.24983822 0.06593674 0.11341734\n",
            " 0.14189718 0.10446108 0.12322234 0.17306005]\n",
            "Mean accuracy: 0.14457131629661987\n"
          ],
          "name": "stdout"
        }
      ]
    },
    {
      "cell_type": "markdown",
      "metadata": {
        "id": "sF2-UXXR-ZBc",
        "colab_type": "text"
      },
      "source": [
        "Recall that sometimes validation may be tricky, e.g. significant class imbalance, having a small number of subjects, geographically clustered instances...\n",
        "\n",
        "What could in theory go wrong here with random, unstratified partitions? Think about potential solutions and investigate the data in order to check whether these problems arise here."
      ]
    },
    {
      "cell_type": "markdown",
      "metadata": {
        "id": "P9ApyRbUr4x3",
        "colab_type": "text"
      },
      "source": [
        "Najpierw sprawdzę histogramy każdej z kolumn z osobna, żeby zobaczyć, czy dane rozkładają się po równo lub pewne wartości pojawią się bardzo rzadko. Okazuje się, że dane rozkładają się mniej więcej po równo, poza:\n",
        "\n",
        " - mieszkaniami o trzech łazienkach - tych jest, bez zaskoczenia, tylko kilka\n",
        "\n",
        " - mieszkaniami droższymi niż 800 tys., tych również jest mniej niż pozostałych. Możliwe rozwiązanie - przetasować dane tak, by w każdym zbiorze walidacyjnym znalazł się jakiś reprezentant z grupy drogich mieszkań"
      ]
    },
    {
      "cell_type": "code",
      "metadata": {
        "id": "bt-y3kUy-ZBe",
        "colab_type": "code",
        "colab": {
          "base_uri": "https://localhost:8080/",
          "height": 908
        },
        "outputId": "de383127-f9bc-486c-df86-21acb77f35cf"
      },
      "source": [
        "import matplotlib.pyplot as plt\n",
        "\n",
        "plt.figure(figsize = (12, 15))\n",
        "\n",
        "plt.subplot(4, 2, 1)\n",
        "plt.hist(mieszkania['m2'])\n",
        "plt.title('m2')\n",
        "\n",
        "plt.subplot(4, 2, 2)\n",
        "plt.hist(mieszkania['ilość_łazienek'])\n",
        "plt.title('Łazienki')\n",
        "\n",
        "plt.subplot(4, 2, 3)\n",
        "plt.hist(mieszkania['ilość_sypialni'])\n",
        "plt.title('sypialnie')\n",
        "\n",
        "plt.subplot(4, 2, 4)\n",
        "plt.hist(mieszkania['dzielnica'])\n",
        "plt.title('dzielnica')\n",
        "\n",
        "plt.subplot(4,2,5)\n",
        "plt.hist(mieszkania['parking_podziemny'])\n",
        "plt.title('parking')\n",
        "\n",
        "plt.subplot(4, 2, 6)\n",
        "plt.hist(mieszkania['rok_budowy'])\n",
        "plt.title('rok budowy')\n",
        "\n",
        "plt.subplot(4, 2, 7)\n",
        "plt.hist(mieszkania['cena'])\n",
        "plt.title('cena')\n"
      ],
      "execution_count": 5,
      "outputs": [
        {
          "output_type": "execute_result",
          "data": {
            "text/plain": [
              "Text(0.5, 1.0, 'cena')"
            ]
          },
          "metadata": {
            "tags": []
          },
          "execution_count": 5
        },
        {
          "output_type": "display_data",
          "data": {
            "image/png": "[encoded data removed]",
            "text/plain": [
              "<Figure size 864x1080 with 7 Axes>"
            ]
          },
          "metadata": {
            "tags": []
          }
        }
      ]
    },
    {
      "cell_type": "code",
      "metadata": {
        "id": "3sTAO_SjssjZ",
        "colab_type": "code",
        "colab": {
          "base_uri": "https://localhost:8080/",
          "height": 616
        },
        "outputId": "042216fe-5f8a-4dcb-abed-4d22f79642b0"
      },
      "source": [
        "_ = plt.figure(figsize = (10, 10))\n",
        "\n",
        "plt.subplot(2, 2, 1)\n",
        "_ = plt.boxplot([mieszkania['cena'].loc[mieszkania['ilość_łazienek'] == 1],\n",
        "             mieszkania['cena'].loc[mieszkania['ilość_łazienek'] == 2],\n",
        "             mieszkania['cena'].loc[mieszkania['ilość_łazienek'] == 3]])\n",
        "plt.xlabel('ilość łazienek')\n",
        "plt.ylabel('cena')\n",
        "\n",
        "plt.subplot(2, 2, 2)\n",
        "_ = plt.boxplot([mieszkania['cena'].loc[mieszkania['ilość_sypialni'] == 1],\n",
        "             mieszkania['cena'].loc[mieszkania['ilość_sypialni'] == 2],\n",
        "             mieszkania['cena'].loc[mieszkania['ilość_sypialni'] == 3]])\n",
        "plt.xlabel('ilość sypialni')\n",
        "plt.ylabel('cena')\n",
        "\n",
        "plt.subplot(2, 2, 3)\n",
        "_ = plt.boxplot([mieszkania['cena'].loc[mieszkania['dzielnica'] == 'grodziskowo'],\n",
        "             mieszkania['cena'].loc[mieszkania['dzielnica'] == 'ochotowo'],\n",
        "             mieszkania['cena'].loc[mieszkania['dzielnica'] == 'mokotowo'],\n",
        "             mieszkania['cena'].loc[mieszkania['dzielnica'] == 'wolowo']])\n",
        "plt.xlabel('dzielnica')\n",
        "plt.ylabel('cena')\n",
        "_ = plt.xticks([1,2,3,4], ['grodziskowo', 'ochotowo', 'mokotowo', 'wolowo'])\n"
      ],
      "execution_count": 6,
      "outputs": [
        {
          "output_type": "display_data",
          "data": {
            "image/png": "[encoded data removed]",
            "text/plain": [
              "<Figure size 720x720 with 3 Axes>"
            ]
          },
          "metadata": {
            "tags": []
          }
        }
      ]
    },
    {
      "cell_type": "markdown",
      "metadata": {
        "id": "SF4fq-fTwddY",
        "colab_type": "text"
      },
      "source": [
        "Z powyższej analizy wynika, że zmienne ilość łazienek oraz ilość sypialni są bardzo skorelowane z ceną. Być może w celu dokładniejszej walidacji krzyżowej należałoby zadbać, aby w każdym zbiorze walidacyjnym  znalezli się reprezentanci każdej z tych kategorii.\n",
        "\n",
        "Ogólnie, najmniejszy bias ma Leave-One-Out-Cross-Validation. W przypadku tego zadania byłoby to wykonalne, bo danych jest niedużo (200 obserwacji)."
      ]
    }
  ]
}